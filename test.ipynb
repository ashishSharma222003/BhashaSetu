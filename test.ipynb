{
 "cells": [
  {
   "cell_type": "code",
   "execution_count": 11,
   "metadata": {},
   "outputs": [],
   "source": [
    "from llama_index.llms.ollama import Ollama"
   ]
  },
  {
   "cell_type": "code",
   "execution_count": 12,
   "metadata": {},
   "outputs": [],
   "source": [
    "llm = Ollama(model=\"llama3.2:3b\", request_timeout=120.0)"
   ]
  },
  {
   "cell_type": "code",
   "execution_count": 13,
   "metadata": {},
   "outputs": [],
   "source": [
    "resp = llm.complete(\"Who is Paul Graham?\")"
   ]
  },
  {
   "cell_type": "code",
   "execution_count": 14,
   "metadata": {},
   "outputs": [
    {
     "data": {
      "text/plain": [
       "CompletionResponse(text='Paul Graham is an American entrepreneur, venture capitalist, and philanthropist. He is best known for co-founding Y Combinator (YC), a well-known startup accelerator that has invested in numerous successful companies such as Airbnb, Reddit, Dropbox, and Stripe.\\n\\nGraham was born in 1966 in Dallas, Texas. After studying at Harvard University, he went on to attend Stanford Business School, where he graduated in 1991. Graham\\'s early career involved working for several companies, including a stint as an investment banker.\\n\\nIn 2005, Graham co-founded Y Combinator with Jessica Livingston and Robert Noke, with the goal of creating a platform that would support startup founders by providing them with access to resources, mentorship, and funding. The program\\'s focus on rapid iteration, lean product development, and bootstrapping proved highly successful, and YC went on to invest in many high-profile startups.\\n\\nUnder Graham\\'s leadership, Y Combinator became one of the most influential startup accelerators in the world, with a reputation for producing successful companies that disrupt traditional industries. Graham is known for his investment philosophy, which emphasizes finding talented entrepreneurs who are passionate about solving real-world problems and provide them with the resources they need to succeed.\\n\\nGraham has also been involved in various philanthropic efforts, particularly through his support of education and entrepreneurship initiatives. He has donated millions of dollars to organizations such as Y Combinator\\'s own non-profit arm, Y Combinator\\'s Education Fund, which aims to improve access to quality education for underprivileged students.\\n\\nIn addition to his work at Y Combinator, Graham has also written several influential articles on entrepreneurship and startup investing, including \"How to Build a Successful Startup\" and \"Startup Advice\". He is widely regarded as one of the most successful and influential entrepreneurs in Silicon Valley.', additional_kwargs={'tool_calls': []}, raw={'model': 'llama3.2:3b', 'created_at': '2025-02-07T02:52:17.9847201Z', 'done': True, 'done_reason': 'stop', 'total_duration': 19226933700, 'load_duration': 57768600, 'prompt_eval_count': 30, 'prompt_eval_duration': 249000000, 'eval_count': 371, 'eval_duration': 18918000000, 'message': Message(role='assistant', content='Paul Graham is an American entrepreneur, venture capitalist, and philanthropist. He is best known for co-founding Y Combinator (YC), a well-known startup accelerator that has invested in numerous successful companies such as Airbnb, Reddit, Dropbox, and Stripe.\\n\\nGraham was born in 1966 in Dallas, Texas. After studying at Harvard University, he went on to attend Stanford Business School, where he graduated in 1991. Graham\\'s early career involved working for several companies, including a stint as an investment banker.\\n\\nIn 2005, Graham co-founded Y Combinator with Jessica Livingston and Robert Noke, with the goal of creating a platform that would support startup founders by providing them with access to resources, mentorship, and funding. The program\\'s focus on rapid iteration, lean product development, and bootstrapping proved highly successful, and YC went on to invest in many high-profile startups.\\n\\nUnder Graham\\'s leadership, Y Combinator became one of the most influential startup accelerators in the world, with a reputation for producing successful companies that disrupt traditional industries. Graham is known for his investment philosophy, which emphasizes finding talented entrepreneurs who are passionate about solving real-world problems and provide them with the resources they need to succeed.\\n\\nGraham has also been involved in various philanthropic efforts, particularly through his support of education and entrepreneurship initiatives. He has donated millions of dollars to organizations such as Y Combinator\\'s own non-profit arm, Y Combinator\\'s Education Fund, which aims to improve access to quality education for underprivileged students.\\n\\nIn addition to his work at Y Combinator, Graham has also written several influential articles on entrepreneurship and startup investing, including \"How to Build a Successful Startup\" and \"Startup Advice\". He is widely regarded as one of the most successful and influential entrepreneurs in Silicon Valley.', images=None, tool_calls=None), 'usage': {'prompt_tokens': 30, 'completion_tokens': 371, 'total_tokens': 401}}, logprobs=None, delta=None)"
      ]
     },
     "execution_count": 14,
     "metadata": {},
     "output_type": "execute_result"
    }
   ],
   "source": [
    "resp"
   ]
  },
  {
   "cell_type": "code",
   "execution_count": 16,
   "metadata": {},
   "outputs": [],
   "source": [
    "t=\"\""
   ]
  },
  {
   "cell_type": "code",
   "execution_count": 19,
   "metadata": {},
   "outputs": [
    {
     "name": "stdout",
     "output_type": "stream",
     "text": [
      "आपका सवाल बहुत आसान है, लेकिन इसका जवाब थोड़ा जटिल हो सकता है।\n",
      "\n",
      "2 + 2 की गणितीय गणना में, हम दो संख्याओं के योग को दर्शाते हैं। इस मामले में, हमें दो 2 संख्याएं मिलती हैं, जिन्हें जोड़ना है।\n",
      "\n",
      "गणितीय दृष्टिकोण से, 2 + 2 की गणना इस प्रकार होती है:\n",
      "\n",
      "1. सबसे पहले, हमें हर एक संख्या का मूल्य निकालना होता है। इसमें हमारे द्वारा दी गई संख्या, जो 2 है, को मानित करते हैं।\n",
      "2. इसके बाद, इन मूल्यों को जोड़ते हैं, जिससे हमारी समाप्ति प्राप्त होती है।\n",
      "\n",
      "इसलिए, 2 + 2 = 4।\n",
      "\n",
      "अब, आइए इसे दो विभिन्न तरीकों से समझते हैं:\n",
      "\n",
      "1. **गणितीय दृष्टिकोण**: हम दो संख्याओं के योग को दर्शाते हैं, जो कि 2 + 2 = 4 है।\n",
      "2. **भौतिक दृष्टिकोण**: यदि आप दो मापलबंद साधनों का उपयोग करके एक वस्तु की लंबाई या चौड़ाई की माप करते हैं, तो आप अपने मापने के प्रत्येक खंड की गणना कर सकते हैं और फिर इन्हें जोड़कर समग्र मूल्य निकाल सकते हैं। इस तरह से, यदि आप दोनों 2-फुट लंबाई वाले साधनों को एक साथ रखते हैं, तो आपकी समाप्ति माप 4 फीट होगी।\n",
      "3. **लैब डेटा**: यदि आप दो परीक्षणों की नमूनाओं का उपयोग करते हैं और प्रत्येक परीक्षण से मिलान करते हैं, तो आपकी समग्र प्रवृत्ति या विशेषता को समझने में मदद मिलती है। यदि आप दोनों नमूनाओं के आकार की गणना कर सकते हैं और उन्हें जोड़ते हैं, तो आपकी समग्र प्रवृत्ति या विशेषता 4 से अधिक या कम होगी।\n",
      "इन सभी तरीकों में, हम दो संख्याओं के योग को दर्शाते हैं, जो कि 2 + 2 = 4 है।\n",
      "\n",
      "लेकिन, यह सवाल एक और तरीके से भी देखा जा सकता है, जहां आप प्रश्न को इस तरह से समझते हैं:\n",
      "\n",
      "मेरे को 2 + 2 में अंतर क्या होता है?\n",
      "\n",
      "इसलिए, हमारा जवाब यह होगा: यदि हम दो संख्याओं को जोड़ते हैं, तो उनसे प्राप्त परिणाम एक से अधिक अलग और अद्वितीय मान बनाता है।"
     ]
    }
   ],
   "source": [
    "for r in  llm.stream_complete(\"मेरे को 2 + 2 में क्या अंतर होता है\"):\n",
    "    print(r.delta,end=\"\")\n",
    "    t+=r.delta"
   ]
  },
  {
   "cell_type": "code",
   "execution_count": 18,
   "metadata": {},
   "outputs": [
    {
     "data": {
      "text/plain": [
       "'Paul Graham is a well-known American entrepreneur, investor, and venture capitalist. He is best recognized for co-founding Y Combinator (YC), one of the most influential startup accelerator programs in the world.\\n\\nGraham was born in 1970 in Berkeley, California. Before starting YC, he worked at several tech companies, including Borland Software, where he rose to become a CEO at age 21. He also served as an early executive at Excite, a web portal that later became part of Lycos.\\n\\nIn 2005, Graham co-founded Y Combinator with his wife, Jessica Livingston. The program\\'s initial funding was $1 million from Graham and several angel investors. Initially called the \"Startup School,\" it aimed to provide resources, mentorship, and networking opportunities to early-stage startups. Over time, YC expanded its scope, investing in over 2,000 companies, including well-known names like Airbnb, Reddit, Stripe, and Dollar Shave Club.\\n\\nGraham is also known for his advocacy of the \" Startup School\" model, which emphasizes rapid iteration, minimalistic product design, and a focus on solving real-world problems. He has written extensively on entrepreneurship, innovation, and the startup ecosystem.\\n\\nGraham serves as the Chairman of Y Combinator\\'s board of directors and continues to be involved in various other ventures, including investment firms like Founders Fund and GGV Capital.'"
      ]
     },
     "execution_count": 18,
     "metadata": {},
     "output_type": "execute_result"
    }
   ],
   "source": [
    "t"
   ]
  },
  {
   "cell_type": "code",
   "execution_count": null,
   "metadata": {},
   "outputs": [],
   "source": []
  }
 ],
 "metadata": {
  "kernelspec": {
   "display_name": "env",
   "language": "python",
   "name": "python3"
  },
  "language_info": {
   "codemirror_mode": {
    "name": "ipython",
    "version": 3
   },
   "file_extension": ".py",
   "mimetype": "text/x-python",
   "name": "python",
   "nbconvert_exporter": "python",
   "pygments_lexer": "ipython3",
   "version": "3.12.5"
  }
 },
 "nbformat": 4,
 "nbformat_minor": 2
}
